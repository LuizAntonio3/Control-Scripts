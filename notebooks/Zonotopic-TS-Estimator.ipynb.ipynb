{
 "cells": [
  {
   "cell_type": "code",
   "execution_count": 1,
   "metadata": {},
   "outputs": [],
   "source": [
    "import control as ct\n",
    "import cvxpy as cp\n",
    "import numpy as np"
   ]
  },
  {
   "cell_type": "markdown",
   "metadata": {},
   "source": [
    "### Autonomous ground vehicle"
   ]
  },
  {
   "cell_type": "code",
   "execution_count": 2,
   "metadata": {},
   "outputs": [],
   "source": [
    "# Constants\n",
    "M   = 1476  # [Kg]\n",
    "l_f = 1.13  # [m]\n",
    "l_r = 1.49  # [m]\n",
    "I_e = 442.8 # [kgm^2]\n",
    "I_z = 1810  # [kgm^2]\n",
    "C_f = 57000 # [N/rad]\n",
    "C_r = 59000 # [N/rad]\n",
    "C_x = 0.35\n",
    "C_y = 0.45\n",
    "\n",
    "v_x = [5, 30]       # [m/s]\n",
    "v_y = [-1.5, 1.5]   # [m/s]\n",
    "r_interval   = [-0.55, 0.55] # [rad/s]\n",
    "\n",
    "Ts = 0.01 # [s]"
   ]
  },
  {
   "cell_type": "markdown",
   "metadata": {},
   "source": [
    "### Continuous Time Matrices"
   ]
  },
  {
   "cell_type": "code",
   "execution_count": 3,
   "metadata": {},
   "outputs": [],
   "source": [
    "A_xi = lambda V_x, r: np.array([\n",
    "    [0, r, 0],\n",
    "    [0, -2*(C_f + C_r)/(M*(1/V_x)), 0],\n",
    "    [0, 2*(l_r*C_r - C_f*l_f)/(I_z*(1/V_x)), 0]\n",
    "])\n",
    "\n",
    "f_v_xi = lambda V_x, r: np.array([\n",
    "    -C_x*(1/V_x)**2/I_e,\n",
    "    2*(C_r*l_r - C_f*l_f)*r/(M*(1/V_x)) - (1/V_x)*r,\n",
    "    -2*(C_f*l_f**2 + C_r*l_r**2)*r/(I_z*(1/V_x))\n",
    "]).T\n",
    "\n",
    "V_x_interval = np.sort(1/np.array(v_x))\n",
    "A_cell = []\n",
    "# f_v_cell = []\n",
    "\n",
    "for V_x_i in V_x_interval:\n",
    "    for r_i in r_interval:\n",
    "        A_cell.append(A_xi(V_x_i, r_i))\n",
    "        # f_v_cell.append(f_v_xi(V_x_i, r_i))\n",
    "\n",
    "E_v = np.array([\n",
    "    [1/I_e, 0],\n",
    "    [0, 2*C_f/M],\n",
    "    [0, 2*l_f*C_f/I_z]\n",
    "])\n",
    "\n",
    "C = np.array([\n",
    "    [1, 0, 0],\n",
    "    [0, 0, 1]\n",
    "])\n",
    "\n",
    "G_v = np.array([0, -C_y/M, 0]).T\n",
    "\n",
    "E_w = np.array([1, 0, 0]).T"
   ]
  },
  {
   "cell_type": "markdown",
   "metadata": {},
   "source": [
    "#### Discrete Time Matrices"
   ]
  },
  {
   "cell_type": "code",
   "execution_count": 4,
   "metadata": {},
   "outputs": [],
   "source": [
    "for i in range(len(A_cell)):\n",
    "    A_cell[i] = Ts * A_cell[i] + np.eye(A_cell[i].shape[0])\n",
    "    # f_v_cell[i] = Ts * f_v_cell[i]\n",
    "f_v_xi_d = lambda V_x, r: Ts*f_v_xi(V_x, r)\n",
    "E_d = Ts * E_v\n",
    "G = Ts * G_v\n",
    "# article does not present a conversion for E_w"
   ]
  },
  {
   "cell_type": "markdown",
   "metadata": {},
   "source": [
    "#### Membership functions"
   ]
  },
  {
   "cell_type": "code",
   "execution_count": 5,
   "metadata": {},
   "outputs": [],
   "source": [
    "omega_v1 = lambda V_x: (V_x_interval[1] - V_x)/(V_x_interval[1] - V_x_interval[0])\n",
    "omega_v2 = lambda V_x: (V_x - V_x_interval[0])/(V_x_interval[1] - V_x_interval[0])\n",
    "omega_r1 = lambda r: (r_interval[1] - r)/(r_interval[1] - r_interval[0])\n",
    "omega_r2 = lambda r: (r - r_interval[1])/(r_interval[1] - r_interval[0])\n",
    "\n",
    "h_xi = lambda V_x, r: [\n",
    "    omega_v1(V_x)*omega_r1(r), \n",
    "    omega_v1(V_x)*omega_r2(r), \n",
    "    omega_v2(V_x)*omega_r1(r), \n",
    "    omega_v2(V_x)*omega_r2(r)\n",
    "]\n",
    "\n",
    "# def defuzzy(V_x, r):\n",
    "#     A_h = 0\n",
    "#     G_h = 0\n",
    "\n",
    "#     h_k = h(V_x, r)\n",
    "\n",
    "#     for i in range(len(h_k)):\n",
    "#         A_h += h_k[i] * A_cell[i]\n",
    "#         G_h += h_k[i] * G\n",
    "\n",
    "#     return [A_h, G_h]"
   ]
  },
  {
   "cell_type": "markdown",
   "metadata": {},
   "source": [
    "### H-$\\infty$ Filter Design"
   ]
  },
  {
   "cell_type": "code",
   "execution_count": null,
   "metadata": {},
   "outputs": [],
   "source": []
  },
  {
   "cell_type": "markdown",
   "metadata": {},
   "source": [
    "### Numerical Example Dynamics"
   ]
  },
  {
   "cell_type": "code",
   "execution_count": 6,
   "metadata": {},
   "outputs": [],
   "source": [
    "def vehicle_simulation(k, x, c, R, A_cell, E_d, C, G, E_w, L_h = None):\n",
    "    # x  = [v_x, v_y, r]\n",
    "    # xi = [1/v_x, r]\n",
    "\n",
    "    # inputs\n",
    "    u = 0\n",
    "    w = 0\n",
    "    \n",
    "    # membemship update\n",
    "    h = h_xi(1/x[0], x[2])\n",
    "    f_xi = f_v_xi_d(1/x[0], x[2])\n",
    "    A_h = 0\n",
    "    G_h = 0\n",
    "\n",
    "    phi_x = lambda x: x[1]**2\n",
    "    \n",
    "    # Model Simulation\n",
    "    x_plus = 0\n",
    "    for i in range(len(h)):\n",
    "        x_plus += h[i]*A_cell[i]@x + E_d@u + f_xi[i] + G@phi_x(x) + E_w@w\n",
    "        A_h += h[i] * A_cell[i]\n",
    "        G_h += h[i] * G\n",
    "    y = C@x\n",
    "\n",
    "    # Estimator gain design\n",
    "    if L_h is None:\n",
    "        # calculate using online optimization\n",
    "        pass\n",
    "    # else use gain provided by H-infty filter\n",
    "    \n",
    "    # State estimation\n",
    "    A_hat = A_h - L_h@C\n",
    "    # retrive R_theta\n",
    "    # c_w and R_w unknown -> give any bounded value to R_w -> an interval set may be enough?\n",
    "\n",
    "    c_plus = A_hat@c + E_d@u + f_xi + G_h@phi_x(c) + L_h@y\n",
    "    R_plus = np.array([A_hat@R, G_h*R_theta, E_w@R_w, 0]) # problably gonna have to fix this 0 to be a matrix\n",
    "\n",
    "    # R reduction\n",
    "\n",
    "    return [x_plus, c_plus, R_plus]"
   ]
  }
 ],
 "metadata": {
  "kernelspec": {
   "display_name": ".venv",
   "language": "python",
   "name": "python3"
  },
  "language_info": {
   "codemirror_mode": {
    "name": "ipython",
    "version": 3
   },
   "file_extension": ".py",
   "mimetype": "text/x-python",
   "name": "python",
   "nbconvert_exporter": "python",
   "pygments_lexer": "ipython3",
   "version": "3.12.3"
  }
 },
 "nbformat": 4,
 "nbformat_minor": 2
}
