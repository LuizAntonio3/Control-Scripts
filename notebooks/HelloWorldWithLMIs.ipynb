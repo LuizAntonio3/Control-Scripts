{
 "cells": [
  {
   "cell_type": "code",
   "execution_count": 1,
   "metadata": {},
   "outputs": [],
   "source": [
    "import cvxpy as cp"
   ]
  },
  {
   "cell_type": "markdown",
   "metadata": {},
   "source": [
    "### Mosek installation test"
   ]
  },
  {
   "cell_type": "code",
   "execution_count": 2,
   "metadata": {},
   "outputs": [
    {
     "name": "stdout",
     "output_type": "stream",
     "text": [
      "optimal value with MOSEK: 6.0\n"
     ]
    }
   ],
   "source": [
    "x = cp.Variable(2)\n",
    "obj = cp.Minimize(x[0] + cp.norm(x, 1))\n",
    "constraints = [x >= 2]\n",
    "prob = cp.Problem(obj, constraints)\n",
    "\n",
    "prob.solve(solver=cp.MOSEK)\n",
    "print(\"optimal value with MOSEK:\", prob.value)"
   ]
  }
 ],
 "metadata": {
  "kernelspec": {
   "display_name": ".venv",
   "language": "python",
   "name": "python3"
  },
  "language_info": {
   "codemirror_mode": {
    "name": "ipython",
    "version": 3
   },
   "file_extension": ".py",
   "mimetype": "text/x-python",
   "name": "python",
   "nbconvert_exporter": "python",
   "pygments_lexer": "ipython3",
   "version": "3.12.4"
  }
 },
 "nbformat": 4,
 "nbformat_minor": 2
}
