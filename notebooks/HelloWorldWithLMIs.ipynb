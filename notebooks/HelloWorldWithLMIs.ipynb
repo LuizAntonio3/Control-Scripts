{
 "cells": [
  {
   "cell_type": "code",
   "execution_count": 10,
   "metadata": {},
   "outputs": [],
   "source": [
    "import numpy as np\n",
    "import cvxpy as cp"
   ]
  },
  {
   "cell_type": "markdown",
   "metadata": {},
   "source": [
    "### Mosek installation test"
   ]
  },
  {
   "cell_type": "code",
   "execution_count": 11,
   "metadata": {},
   "outputs": [
    {
     "name": "stdout",
     "output_type": "stream",
     "text": [
      "optimal value with MOSEK: 6.0\n"
     ]
    }
   ],
   "source": [
    "x = cp.Variable(2)\n",
    "obj = cp.Minimize(x[0] + cp.norm(x, 1))\n",
    "constraints = [x >= 2]\n",
    "prob = cp.Problem(obj, constraints)\n",
    "\n",
    "prob.solve(solver=cp.MOSEK)\n",
    "print(\"optimal value with MOSEK:\", prob.value)"
   ]
  },
  {
   "cell_type": "code",
   "execution_count": 12,
   "metadata": {},
   "outputs": [
    {
     "name": "stdout",
     "output_type": "stream",
     "text": [
      "['CLARABEL', 'ECOS', 'ECOS_BB', 'MOSEK', 'OSQP', 'SCIPY', 'SCS']\n"
     ]
    }
   ],
   "source": [
    "print(cp.installed_solvers())"
   ]
  },
  {
   "cell_type": "markdown",
   "metadata": {},
   "source": [
    "### LMI Hello World\n",
    "\n",
    "This is checking if there is a matrix P for the Lyapunov Quadratic Equation for A"
   ]
  },
  {
   "cell_type": "code",
   "execution_count": 13,
   "metadata": {},
   "outputs": [
    {
     "data": {
      "text/plain": [
       "nan"
      ]
     },
     "execution_count": 13,
     "metadata": {},
     "output_type": "execute_result"
    }
   ],
   "source": [
    "eps = 1e-9 # \n",
    "\n",
    "A = np.array([[-0.3937, 0.4057], [0.1763, -0.1964]])\n",
    "n = A.shape[0]\n",
    "\n",
    "P = cp.Variable((n, n), symmetric=True)\n",
    "Q = np.eye(n,n)\n",
    "constraints = [P >= eps]\n",
    "constraints += [A.T @ P + P @ A + Q <= -eps]\n",
    "\n",
    "prob = cp.Problem(cp.Minimize(None), constraints=constraints)\n",
    "prob.solve(solver=cp.MOSEK)"
   ]
  },
  {
   "cell_type": "code",
   "execution_count": 14,
   "metadata": {},
   "outputs": [
    {
     "name": "stdout",
     "output_type": "stream",
     "text": [
      "The solution is 'optimal', with eig(P) = [ 0.85993742 57.72109604] -> P is positive defined\n"
     ]
    }
   ],
   "source": [
    "is_positive_defined = 'positive defined' if all(np.linalg.eig(P.value).eigenvalues > 0) else 'NOT positive definite'\n",
    "\n",
    "print(f\"The solution is \\'{prob.status}\\', with eig(P) = {np.linalg.eig(P.value).eigenvalues} -> P is {is_positive_defined}\")"
   ]
  },
  {
   "cell_type": "markdown",
   "metadata": {},
   "source": [
    "### System Controller"
   ]
  },
  {
   "cell_type": "code",
   "execution_count": 15,
   "metadata": {},
   "outputs": [
    {
     "name": "stdout",
     "output_type": "stream",
     "text": [
      "the controllability matrix has full rank \n"
     ]
    }
   ],
   "source": [
    "A_control = np.array([\n",
    "    [0, 1, 0, 0],\n",
    "    [0, 0, 1, 0],\n",
    "    [-3, 1, 2, 3],\n",
    "    [2, 1, 0, 0]\n",
    "])\n",
    "\n",
    "B_control = np.array([\n",
    "    [0, 0],\n",
    "    [0, 0],\n",
    "    [1, 2],\n",
    "    [0, 2]\n",
    "])\n",
    "\n",
    "n_control = A_control.shape[0]\n",
    "\n",
    "C = np.concat([B_control, np.linalg.matrix_power(A_control, 1) @ B_control, np.linalg.matrix_power(A_control, 2) @ B_control, np.linalg.matrix_power(A_control, 3) @ B_control], axis=1)\n",
    "full_rank = 'has' if np.linalg.matrix_rank(C) == A_control.shape[0] else 'does not have'\n",
    "\n",
    "print(f\"the controllability matrix {full_rank} full rank \")"
   ]
  },
  {
   "cell_type": "markdown",
   "metadata": {},
   "source": [
    "#### Checking Feasibility"
   ]
  },
  {
   "cell_type": "code",
   "execution_count": 16,
   "metadata": {},
   "outputs": [
    {
     "data": {
      "text/plain": [
       "nan"
      ]
     },
     "execution_count": 16,
     "metadata": {},
     "output_type": "execute_result"
    }
   ],
   "source": [
    "P_feas = cp.Variable((n_control, n_control), symmetric=True)\n",
    "\n",
    "constraints_feas = [P_feas >= eps]\n",
    "constraints_feas += [A_control.T @ P_feas + P_feas @ A_control <= -eps]\n",
    "\n",
    "prob_feas = cp.Problem(cp.Minimize(None), constraints=constraints_feas)\n",
    "prob_feas.solve(solver=cp.MOSEK)"
   ]
  },
  {
   "cell_type": "code",
   "execution_count": 17,
   "metadata": {},
   "outputs": [
    {
     "name": "stdout",
     "output_type": "stream",
     "text": [
      "P = \n",
      "[[1.e-09 1.e-09 1.e-09 1.e-09]\n",
      " [1.e-09 1.e-09 1.e-09 1.e-09]\n",
      " [1.e-09 1.e-09 1.e-09 1.e-09]\n",
      " [1.e-09 1.e-09 1.e-09 1.e-09]]\n",
      "The solution is 'optimal', with eig(P) = [ 4.00000000e-09  8.31158914e-26 -8.03560591e-41  0.00000000e+00] -> P is NOT positive defined\n"
     ]
    }
   ],
   "source": [
    "is_positive_defined = 'positive defined' if all(np.linalg.eig(P_feas.value).eigenvalues > 0) else 'NOT positive defined'\n",
    "print(f'P = \\n{P_feas.value}')\n",
    "print(f\"The solution is \\'{prob_feas.status}\\', with eig(P) = {np.linalg.eig(P_feas.value).eigenvalues} -> P is {is_positive_defined}\")"
   ]
  },
  {
   "cell_type": "markdown",
   "metadata": {},
   "source": [
    "#### Controller Design"
   ]
  },
  {
   "cell_type": "code",
   "execution_count": 18,
   "metadata": {},
   "outputs": [
    {
     "data": {
      "text/plain": [
       "nan"
      ]
     },
     "execution_count": 18,
     "metadata": {},
     "output_type": "execute_result"
    }
   ],
   "source": [
    "Q_control = cp.Variable((n_control, n_control), symmetric=True)\n",
    "Z_control = cp.Variable((B_control.shape[1], n_control))\n",
    "\n",
    "constraints_control = [ Q_control >= eps]\n",
    "constraints_control += [ Q_control @ A_control.T + Z_control.T @ B_control.T + A_control @ Q_control + B_control @ Z_control <= -eps]\n",
    "\n",
    "prob_control = cp.Problem(cp.Minimize(None), constraints=constraints_control)\n",
    "prob_control.solve(solver=cp.MOSEK)"
   ]
  },
  {
   "cell_type": "code",
   "execution_count": 19,
   "metadata": {},
   "outputs": [
    {
     "name": "stdout",
     "output_type": "stream",
     "text": [
      "P = \n",
      "[[1.e-09 1.e-09 1.e-09 1.e-09]\n",
      " [1.e-09 1.e-09 1.e-09 1.e-09]\n",
      " [1.e-09 1.e-09 1.e-09 1.e-09]\n",
      " [1.e-09 1.e-09 1.e-09 1.e-09]]\n",
      "The solution is 'optimal', with eig(P) = [ 4.00000000e-09  8.31158914e-26 -8.03560591e-41  0.00000000e+00] -> P is NOT positive definite\n",
      "The designed controller K = \n",
      "[[ 4.13590306e-34  4.13590306e-34  4.13590306e-34  4.13590306e-34]\n",
      " [-8.50000000e-18 -8.50000000e-18 -8.50000000e-18 -8.50000000e-18]]\n"
     ]
    }
   ],
   "source": [
    "P_control = Q_control.T.value\n",
    "K = (Z_control @ P_control).value\n",
    "\n",
    "is_positive_defined = 'positive defined' if all(np.linalg.eig(P_control).eigenvalues > 0) else 'NOT positive definite'\n",
    "print(f'P = \\n{P_control}')\n",
    "print(f\"The solution is \\'{prob_control.status}\\', with eig(P) = {np.linalg.eig(P_control).eigenvalues} -> P is {is_positive_defined}\")\n",
    "print(f\"The designed controller K = \\n{K}\")"
   ]
  }
 ],
 "metadata": {
  "kernelspec": {
   "display_name": ".venv",
   "language": "python",
   "name": "python3"
  },
  "language_info": {
   "codemirror_mode": {
    "name": "ipython",
    "version": 3
   },
   "file_extension": ".py",
   "mimetype": "text/x-python",
   "name": "python",
   "nbconvert_exporter": "python",
   "pygments_lexer": "ipython3",
   "version": "3.12.3"
  }
 },
 "nbformat": 4,
 "nbformat_minor": 2
}
