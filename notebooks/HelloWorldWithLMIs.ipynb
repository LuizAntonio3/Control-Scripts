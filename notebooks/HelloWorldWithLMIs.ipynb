{
 "cells": [
  {
   "cell_type": "code",
   "execution_count": 6,
   "metadata": {},
   "outputs": [],
   "source": [
    "import numpy as np\n",
    "import cvxpy as cp"
   ]
  },
  {
   "cell_type": "markdown",
   "metadata": {},
   "source": [
    "### Mosek installation test"
   ]
  },
  {
   "cell_type": "code",
   "execution_count": 35,
   "metadata": {},
   "outputs": [
    {
     "name": "stdout",
     "output_type": "stream",
     "text": [
      "optimal value with MOSEK: 6.0\n"
     ]
    }
   ],
   "source": [
    "x = cp.Variable(2)\n",
    "obj = cp.Minimize(x[0] + cp.norm(x, 1))\n",
    "constraints = [x >= 2]\n",
    "prob = cp.Problem(obj, constraints)\n",
    "\n",
    "prob.solve(solver=cp.MOSEK)\n",
    "print(\"optimal value with MOSEK:\", prob.value)"
   ]
  },
  {
   "cell_type": "markdown",
   "metadata": {},
   "source": [
    "### LMI Hello World\n",
    "\n",
    "This is checking if there is a matrix P for the Lyapunov Quadratic Equation for A"
   ]
  },
  {
   "cell_type": "code",
   "execution_count": 39,
   "metadata": {},
   "outputs": [
    {
     "data": {
      "text/plain": [
       "0.0"
      ]
     },
     "execution_count": 39,
     "metadata": {},
     "output_type": "execute_result"
    }
   ],
   "source": [
    "A = np.array([[-0.3937, 0.4057], [0.1763, -0.1964]])\n",
    "n = A.shape[0]\n",
    "\n",
    "P = cp.Variable((n, n), PSD=True)\n",
    "Q = np.eye(n,n)\n",
    "constraints = [A.transpose() @ P + P @ A + Q <= -1e-9]\n",
    "\n",
    "prob = cp.Problem(cp.Minimize(0), constraints=constraints)\n",
    "prob.solve(solver=cp.MOSEK)"
   ]
  },
  {
   "cell_type": "code",
   "execution_count": 33,
   "metadata": {},
   "outputs": [
    {
     "data": {
      "text/plain": [
       "array([[ 66.96807707, 134.87541881],\n",
       "       [134.87541881, 291.14282244]])"
      ]
     },
     "execution_count": 33,
     "metadata": {},
     "output_type": "execute_result"
    }
   ],
   "source": [
    "P.value"
   ]
  },
  {
   "cell_type": "code",
   "execution_count": 40,
   "metadata": {},
   "outputs": [
    {
     "data": {
      "text/plain": [
       "array([  3.68453508, 354.42636443])"
      ]
     },
     "execution_count": 40,
     "metadata": {},
     "output_type": "execute_result"
    }
   ],
   "source": [
    "np.linalg.eig(P.value).eigenvalues"
   ]
  }
 ],
 "metadata": {
  "kernelspec": {
   "display_name": ".venv",
   "language": "python",
   "name": "python3"
  },
  "language_info": {
   "codemirror_mode": {
    "name": "ipython",
    "version": 3
   },
   "file_extension": ".py",
   "mimetype": "text/x-python",
   "name": "python",
   "nbconvert_exporter": "python",
   "pygments_lexer": "ipython3",
   "version": "3.12.4"
  }
 },
 "nbformat": 4,
 "nbformat_minor": 2
}
